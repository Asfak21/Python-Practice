{
  "nbformat": 4,
  "nbformat_minor": 0,
  "metadata": {
    "colab": {
      "provenance": [],
      "authorship_tag": "ABX9TyNbaLz21pv23NZ79GC77WId",
      "include_colab_link": true
    },
    "kernelspec": {
      "name": "python3",
      "display_name": "Python 3"
    },
    "language_info": {
      "name": "python"
    }
  },
  "cells": [
    {
      "cell_type": "markdown",
      "metadata": {
        "id": "view-in-github",
        "colab_type": "text"
      },
      "source": [
        "<a href=\"https://colab.research.google.com/github/Asfak21/Python-Practice/blob/main/Python_Practice.ipynb\" target=\"_parent\"><img src=\"https://colab.research.google.com/assets/colab-badge.svg\" alt=\"Open In Colab\"/></a>"
      ]
    },
    {
      "cell_type": "code",
      "source": [
        "import numpy as np\n",
        "\n",
        "arr = np.array([[1, 2, 3], [4, 5, 6]])\n",
        "\n",
        "print(arr)"
      ],
      "metadata": {
        "id": "5P9Ki-kQWz0K",
        "outputId": "61eedcc0-293b-483a-dba4-7d99d7d4d08b",
        "colab": {
          "base_uri": "https://localhost:8080/"
        }
      },
      "execution_count": 1,
      "outputs": [
        {
          "output_type": "stream",
          "name": "stdout",
          "text": [
            "[[1 2 3]\n",
            " [4 5 6]]\n"
          ]
        }
      ]
    },
    {
      "cell_type": "code",
      "source": [
        "num_List=eval(input())\n",
        "def listsum(numList):\n",
        "   if len(numList) == 1:\n",
        "        return numList[0]\n",
        "   else:\n",
        "        return numList[0] + listsum(numList[1:])\n",
        "\n",
        "print(listsum(num_List))"
      ],
      "metadata": {
        "id": "cN9gRJrPFVZE",
        "outputId": "98d3fe6f-f87b-4caf-f4a1-10097a9adfa5",
        "colab": {
          "base_uri": "https://localhost:8080/"
        }
      },
      "execution_count": null,
      "outputs": [
        {
          "output_type": "stream",
          "name": "stdout",
          "text": [
            "[2, 4, 5, 6, 7]\n",
            "24\n"
          ]
        }
      ]
    },
    {
      "cell_type": "code",
      "source": [
        "n=int(input())\n",
        "base=int(input())\n",
        "strr = \"0123456789ABCDEF\"\n",
        "def to_string(n,base):\n",
        "    if n < base:\n",
        "        return strr[n]\n",
        "    else:\n",
        "        return to_string(n//base,base) + strr[n%base]\n",
        "\n",
        "print(to_string(n,base))"
      ],
      "metadata": {
        "colab": {
          "base_uri": "https://localhost:8080/"
        },
        "id": "jK59SU0tE3pT",
        "outputId": "a15e6efb-af83-41c7-cb7a-e6e7e989ad2d"
      },
      "execution_count": null,
      "outputs": [
        {
          "output_type": "stream",
          "name": "stdout",
          "text": [
            "2835\n",
            "16\n",
            "B13\n"
          ]
        }
      ]
    },
    {
      "cell_type": "code",
      "source": [
        "def print_unique_sorted_words(sequence):\n",
        "    # Remove any leading/trailing whitespaces\n",
        "    sequence = sequence.strip()\n",
        "\n",
        "    # Replace commas with spaces to create a single string\n",
        "    sequence = sequence.replace(',', ' ')\n",
        "\n",
        "    # Split the sequence into individual words\n",
        "    words = sequence.split()\n",
        "\n",
        "    # Remove any punctuation marks from the words\n",
        "    words = [word.strip('.').strip(',') for word in words]\n",
        "\n",
        "    # Get the unique words and sort them alphabetically\n",
        "    unique_words = sorted(set(words))\n",
        "\n",
        "    # Print the unique words in sorted form\n",
        "    print(','.join(unique_words))\n",
        "\n",
        "\n",
        "# Accept user input\n",
        "input_sequence = input(\"Enter a comma-separated sequence of words: \")\n",
        "\n",
        "# Print the unique words in sorted form\n",
        "print_unique_sorted_words(input_sequence)\n"
      ],
      "metadata": {
        "id": "JR70aVFhiE2r"
      },
      "execution_count": null,
      "outputs": []
    },
    {
      "cell_type": "code",
      "source": [
        "n=int(input())\n",
        "for i in range(1, n + 1):\n",
        "    # Print the first digit of each row\n",
        "    print(i, end='')\n",
        "\n",
        "    # Print additional digits for each row\n",
        "    for j in range(1, i):\n",
        "        if j == i - 1:\n",
        "            print(i, end='')\n",
        "        else:\n",
        "            print('0', end='')\n",
        "\n",
        "    print()"
      ],
      "metadata": {
        "id": "ALVTDDte1mi1",
        "outputId": "98aef601-efb8-4886-84a1-7597476bc8c7",
        "colab": {
          "base_uri": "https://localhost:8080/"
        }
      },
      "execution_count": null,
      "outputs": [
        {
          "output_type": "stream",
          "name": "stdout",
          "text": [
            "4\n",
            "1\n",
            "22\n",
            "303\n",
            "4004\n"
          ]
        }
      ]
    },
    {
      "cell_type": "markdown",
      "source": [
        "Write a Python program to calculate body mass index.\n",
        "\n",
        "Example 1:\n",
        "Input:\n",
        "6\n",
        "\n",
        "65\n",
        "\n",
        "Output:\n",
        "1.81"
      ],
      "metadata": {
        "id": "3FJWdKFVs25p"
      }
    },
    {
      "cell_type": "code",
      "source": [
        "height = 6\n",
        "weight = 65\n",
        "BMI = (weight/(height * height))\n",
        "print(round(BMI,2))"
      ],
      "metadata": {
        "id": "e4qgbvDEs4k6",
        "outputId": "a22af219-8ed7-42fd-f7ae-f611b81e397f",
        "colab": {
          "base_uri": "https://localhost:8080/"
        }
      },
      "execution_count": null,
      "outputs": [
        {
          "output_type": "stream",
          "name": "stdout",
          "text": [
            "1.81\n"
          ]
        }
      ]
    },
    {
      "cell_type": "markdown",
      "source": [
        "Write a Python program to solve (x + y) * (x + y).\n",
        "\n",
        "Example 1:\n",
        "Input:\n",
        "4\n",
        "\n",
        "3\n",
        "\n",
        "Output:\n",
        "49"
      ],
      "metadata": {
        "id": "pIcEAmLGqQzJ"
      }
    },
    {
      "cell_type": "code",
      "source": [
        "x = 4\n",
        "y = 3\n",
        "solve = (x+y) * (x+y)\n",
        "print(solve)"
      ],
      "metadata": {
        "colab": {
          "base_uri": "https://localhost:8080/"
        },
        "id": "d5DC7kcdqTFZ",
        "outputId": "5bbdcd29-6341-4f14-98c5-a65c0a13ddd7"
      },
      "execution_count": null,
      "outputs": [
        {
          "output_type": "stream",
          "name": "stdout",
          "text": [
            "49\n"
          ]
        }
      ]
    },
    {
      "cell_type": "markdown",
      "source": [
        "Daily Python Practice Assingment\n"
      ],
      "metadata": {
        "id": "sRP2mQSCqI4u"
      }
    },
    {
      "cell_type": "markdown",
      "source": [
        "\n",
        "\n",
        "Write a Python program to calculate midpoints of a line.\n",
        "\n",
        "Example 1:\n",
        "Input:\n",
        "2\n",
        "\n",
        "2\n",
        "\n",
        "4\n",
        "\n",
        "4\n",
        "\n",
        "Output:\n",
        "Midpoint: 3.0 3.0"
      ],
      "metadata": {
        "id": "VzUKXWC_pDmE"
      }
    },
    {
      "cell_type": "code",
      "source": [
        "x1 = float(input())\n",
        "y1 = float(input())\n",
        "\n",
        "x2 = float(input())\n",
        "y2 = float(input())\n",
        "\n",
        "x_m_point = (x1 + x2)/2\n",
        "y_m_point = (y1 + y2)/2\n",
        "print(\"Midpoint:\", x_m_point, y_m_point)"
      ],
      "metadata": {
        "colab": {
          "base_uri": "https://localhost:8080/"
        },
        "id": "8Y-yp7uGpJqS",
        "outputId": "84d3345e-5c32-4fd6-bac0-dd0a9da7333e"
      },
      "execution_count": null,
      "outputs": [
        {
          "output_type": "stream",
          "name": "stdout",
          "text": [
            "2\n",
            "2\n",
            "4\n",
            "4\n",
            "Midpoint: 3.0 3.0\n"
          ]
        }
      ]
    },
    {
      "cell_type": "code",
      "source": [
        "n = int(input())\n",
        "largest = max(int(input()) for _ in range(n))\n",
        "print(largest)"
      ],
      "metadata": {
        "id": "U8R-m-CcT2Hx",
        "outputId": "5cb7fcd7-449d-4582-aa2f-b8670e6ac684",
        "colab": {
          "base_uri": "https://localhost:8080/",
          "height": 519
        }
      },
      "execution_count": null,
      "outputs": [
        {
          "name": "stdout",
          "output_type": "stream",
          "text": [
            "58\n",
            "5\n",
            "2\n",
            "65\n",
            "5\n",
            "8\n",
            "2\n",
            "2\n",
            "58\n",
            "4\n"
          ]
        },
        {
          "output_type": "error",
          "ename": "KeyboardInterrupt",
          "evalue": "ignored",
          "traceback": [
            "\u001b[0;31m---------------------------------------------------------------------------\u001b[0m",
            "\u001b[0;31mKeyboardInterrupt\u001b[0m                         Traceback (most recent call last)",
            "\u001b[0;32m<ipython-input-1-e817d9454bbe>\u001b[0m in \u001b[0;36m<cell line: 2>\u001b[0;34m()\u001b[0m\n\u001b[1;32m      1\u001b[0m \u001b[0mn\u001b[0m \u001b[0;34m=\u001b[0m \u001b[0mint\u001b[0m\u001b[0;34m(\u001b[0m\u001b[0minput\u001b[0m\u001b[0;34m(\u001b[0m\u001b[0;34m)\u001b[0m\u001b[0;34m)\u001b[0m\u001b[0;34m\u001b[0m\u001b[0;34m\u001b[0m\u001b[0m\n\u001b[0;32m----> 2\u001b[0;31m \u001b[0mlargest\u001b[0m \u001b[0;34m=\u001b[0m \u001b[0mmax\u001b[0m\u001b[0;34m(\u001b[0m\u001b[0mint\u001b[0m\u001b[0;34m(\u001b[0m\u001b[0minput\u001b[0m\u001b[0;34m(\u001b[0m\u001b[0;34m)\u001b[0m\u001b[0;34m)\u001b[0m \u001b[0;32mfor\u001b[0m \u001b[0m_\u001b[0m \u001b[0;32min\u001b[0m \u001b[0mrange\u001b[0m\u001b[0;34m(\u001b[0m\u001b[0mn\u001b[0m\u001b[0;34m)\u001b[0m\u001b[0;34m)\u001b[0m\u001b[0;34m\u001b[0m\u001b[0;34m\u001b[0m\u001b[0m\n\u001b[0m\u001b[1;32m      3\u001b[0m \u001b[0mprint\u001b[0m\u001b[0;34m(\u001b[0m\u001b[0mlargest\u001b[0m\u001b[0;34m)\u001b[0m\u001b[0;34m\u001b[0m\u001b[0;34m\u001b[0m\u001b[0m\n",
            "\u001b[0;32m<ipython-input-1-e817d9454bbe>\u001b[0m in \u001b[0;36m<genexpr>\u001b[0;34m(.0)\u001b[0m\n\u001b[1;32m      1\u001b[0m \u001b[0mn\u001b[0m \u001b[0;34m=\u001b[0m \u001b[0mint\u001b[0m\u001b[0;34m(\u001b[0m\u001b[0minput\u001b[0m\u001b[0;34m(\u001b[0m\u001b[0;34m)\u001b[0m\u001b[0;34m)\u001b[0m\u001b[0;34m\u001b[0m\u001b[0;34m\u001b[0m\u001b[0m\n\u001b[0;32m----> 2\u001b[0;31m \u001b[0mlargest\u001b[0m \u001b[0;34m=\u001b[0m \u001b[0mmax\u001b[0m\u001b[0;34m(\u001b[0m\u001b[0mint\u001b[0m\u001b[0;34m(\u001b[0m\u001b[0minput\u001b[0m\u001b[0;34m(\u001b[0m\u001b[0;34m)\u001b[0m\u001b[0;34m)\u001b[0m \u001b[0;32mfor\u001b[0m \u001b[0m_\u001b[0m \u001b[0;32min\u001b[0m \u001b[0mrange\u001b[0m\u001b[0;34m(\u001b[0m\u001b[0mn\u001b[0m\u001b[0;34m)\u001b[0m\u001b[0;34m)\u001b[0m\u001b[0;34m\u001b[0m\u001b[0;34m\u001b[0m\u001b[0m\n\u001b[0m\u001b[1;32m      3\u001b[0m \u001b[0mprint\u001b[0m\u001b[0;34m(\u001b[0m\u001b[0mlargest\u001b[0m\u001b[0;34m)\u001b[0m\u001b[0;34m\u001b[0m\u001b[0;34m\u001b[0m\u001b[0m\n",
            "\u001b[0;32m/usr/local/lib/python3.10/dist-packages/ipykernel/kernelbase.py\u001b[0m in \u001b[0;36mraw_input\u001b[0;34m(self, prompt)\u001b[0m\n\u001b[1;32m    849\u001b[0m                 \u001b[0;34m\"raw_input was called, but this frontend does not support input requests.\"\u001b[0m\u001b[0;34m\u001b[0m\u001b[0;34m\u001b[0m\u001b[0m\n\u001b[1;32m    850\u001b[0m             )\n\u001b[0;32m--> 851\u001b[0;31m         return self._input_request(str(prompt),\n\u001b[0m\u001b[1;32m    852\u001b[0m             \u001b[0mself\u001b[0m\u001b[0;34m.\u001b[0m\u001b[0m_parent_ident\u001b[0m\u001b[0;34m,\u001b[0m\u001b[0;34m\u001b[0m\u001b[0;34m\u001b[0m\u001b[0m\n\u001b[1;32m    853\u001b[0m             \u001b[0mself\u001b[0m\u001b[0;34m.\u001b[0m\u001b[0m_parent_header\u001b[0m\u001b[0;34m,\u001b[0m\u001b[0;34m\u001b[0m\u001b[0;34m\u001b[0m\u001b[0m\n",
            "\u001b[0;32m/usr/local/lib/python3.10/dist-packages/ipykernel/kernelbase.py\u001b[0m in \u001b[0;36m_input_request\u001b[0;34m(self, prompt, ident, parent, password)\u001b[0m\n\u001b[1;32m    893\u001b[0m             \u001b[0;32mexcept\u001b[0m \u001b[0mKeyboardInterrupt\u001b[0m\u001b[0;34m:\u001b[0m\u001b[0;34m\u001b[0m\u001b[0;34m\u001b[0m\u001b[0m\n\u001b[1;32m    894\u001b[0m                 \u001b[0;31m# re-raise KeyboardInterrupt, to truncate traceback\u001b[0m\u001b[0;34m\u001b[0m\u001b[0;34m\u001b[0m\u001b[0m\n\u001b[0;32m--> 895\u001b[0;31m                 \u001b[0;32mraise\u001b[0m \u001b[0mKeyboardInterrupt\u001b[0m\u001b[0;34m(\u001b[0m\u001b[0;34m\"Interrupted by user\"\u001b[0m\u001b[0;34m)\u001b[0m \u001b[0;32mfrom\u001b[0m \u001b[0;32mNone\u001b[0m\u001b[0;34m\u001b[0m\u001b[0;34m\u001b[0m\u001b[0m\n\u001b[0m\u001b[1;32m    896\u001b[0m             \u001b[0;32mexcept\u001b[0m \u001b[0mException\u001b[0m \u001b[0;32mas\u001b[0m \u001b[0me\u001b[0m\u001b[0;34m:\u001b[0m\u001b[0;34m\u001b[0m\u001b[0;34m\u001b[0m\u001b[0m\n\u001b[1;32m    897\u001b[0m                 \u001b[0mself\u001b[0m\u001b[0;34m.\u001b[0m\u001b[0mlog\u001b[0m\u001b[0;34m.\u001b[0m\u001b[0mwarning\u001b[0m\u001b[0;34m(\u001b[0m\u001b[0;34m\"Invalid Message:\"\u001b[0m\u001b[0;34m,\u001b[0m \u001b[0mexc_info\u001b[0m\u001b[0;34m=\u001b[0m\u001b[0;32mTrue\u001b[0m\u001b[0;34m)\u001b[0m\u001b[0;34m\u001b[0m\u001b[0;34m\u001b[0m\u001b[0m\n",
            "\u001b[0;31mKeyboardInterrupt\u001b[0m: Interrupted by user"
          ]
        }
      ]
    },
    {
      "cell_type": "code",
      "source": [
        "my_list = [1, 2, 3, 4, 3, 5]\n",
        "\n",
        "# Using pop() its remove by index no\n",
        "removed_item = my_list.pop(2)\n",
        "print(\"Removed item using pop():\", removed_item)\n",
        "print(\"Updated list:\", my_list)\n",
        "\n",
        "# Using remove() its  remove the specific element\n",
        "my_list.remove(2)\n",
        "print(\"Updated list after remove():\", my_list)\n"
      ],
      "metadata": {
        "id": "VCulYQQhW1cs",
        "outputId": "14fbf1dd-7d75-4772-81d3-f572658fed9f",
        "colab": {
          "base_uri": "https://localhost:8080/"
        }
      },
      "execution_count": null,
      "outputs": [
        {
          "output_type": "stream",
          "name": "stdout",
          "text": [
            "Removed item using pop(): 3\n",
            "Updated list: [1, 2, 4, 3, 5]\n",
            "Updated list after remove(): [1, 4, 3, 5]\n"
          ]
        }
      ]
    },
    {
      "cell_type": "code",
      "source": [
        "x, y = int(input()), int(input())\n",
        "result = str(x).zfill(y) if len(str(x)) < y else str(x)\n",
        "print(result)"
      ],
      "metadata": {
        "id": "q4X46XW_ED91",
        "outputId": "9d672535-8575-4596-f945-7e5a6152d7f0",
        "colab": {
          "base_uri": "https://localhost:8080/"
        }
      },
      "execution_count": null,
      "outputs": [
        {
          "output_type": "stream",
          "name": "stdout",
          "text": [
            "1\n",
            "3\n",
            "001\n"
          ]
        }
      ]
    },
    {
      "cell_type": "code",
      "source": [
        "def reverse_number(number):\n",
        "    reversed_number = 0\n",
        "    while number > 0:\n",
        "        # Extract the last digit of the number\n",
        "        digit = number % 10\n",
        "\n",
        "        # Append the digit to the reversed number\n",
        "        reversed_number = reversed_number * 10 + digit\n",
        "\n",
        "        # Remove the last digit from the number\n",
        "        number //= 10\n",
        "\n",
        "    return reversed_number\n",
        "\n",
        "input_number = int(input(\"Enter a number: \"))\n",
        "reversed_number = reverse_number(input_number)\n",
        "print(\"Reversed number:\", reversed_number)\n"
      ],
      "metadata": {
        "id": "4J0D8_B3jW4Y",
        "outputId": "f51bcee3-4ad8-47d4-ad77-af4f079cd147",
        "colab": {
          "base_uri": "https://localhost:8080/"
        }
      },
      "execution_count": null,
      "outputs": [
        {
          "output_type": "stream",
          "name": "stdout",
          "text": [
            "Enter a number: 534750\n",
            "Reversed number: 57435\n"
          ]
        }
      ]
    },
    {
      "cell_type": "code",
      "source": [
        "number = int(input(\"Enter a number: \"))\n",
        "reversed_number = 0\n",
        "while number > 0:\n",
        "    reversed_number = reversed_number * 10 + number % 10\n",
        "    number //= 10\n"
      ],
      "metadata": {
        "id": "JP2KNITJkDJ9",
        "outputId": "08f575c5-6ab6-4a1b-ded7-1f89f7df41de",
        "colab": {
          "base_uri": "https://localhost:8080/"
        }
      },
      "execution_count": null,
      "outputs": [
        {
          "name": "stdout",
          "output_type": "stream",
          "text": [
            "Enter a number: 534750\n"
          ]
        }
      ]
    },
    {
      "cell_type": "code",
      "source": [
        "number = int(input(\"Enter a number: \"))\n",
        "reversed_number = int(str(number)[::-1])\n"
      ],
      "metadata": {
        "id": "7qz3VkPYkN9V",
        "outputId": "fcb776cc-79a5-491f-b3a3-9a488a7544c4",
        "colab": {
          "base_uri": "https://localhost:8080/"
        }
      },
      "execution_count": null,
      "outputs": [
        {
          "name": "stdout",
          "output_type": "stream",
          "text": [
            "Enter a number: 534750\n"
          ]
        }
      ]
    },
    {
      "cell_type": "markdown",
      "source": [
        "**Suppose you are given a list of numbers. You need to find the corresponding squares of these numbers and zip them together in a dictionary**"
      ],
      "metadata": {
        "id": "BQTIptUAcyq-"
      }
    },
    {
      "cell_type": "code",
      "source": [
        "# The list of numbers\n",
        "list_of_numbers = [1, 2, 4, 6, 11, 14, 17, 20]"
      ],
      "metadata": {
        "id": "z7B0Mporc37O"
      },
      "execution_count": null,
      "outputs": []
    },
    {
      "cell_type": "code",
      "source": [
        "for x in list_of_numbers:\n",
        "  square_number = x**2\n",
        "  print(f\" The Square of {x} is {square_number}'\")"
      ],
      "metadata": {
        "id": "KoCuCKuUdDP8",
        "outputId": "fef57154-702c-4917-f385-e516f27eee75",
        "colab": {
          "base_uri": "https://localhost:8080/"
        }
      },
      "execution_count": null,
      "outputs": [
        {
          "output_type": "stream",
          "name": "stdout",
          "text": [
            " The Square of 1 is 1'\n",
            " The Square of 2 is 4'\n",
            " The Square of 4 is 16'\n",
            " The Square of 6 is 36'\n",
            " The Square of 11 is 121'\n",
            " The Square of 14 is 196'\n",
            " The Square of 17 is 289'\n",
            " The Square of 20 is 400'\n"
          ]
        }
      ]
    },
    {
      "cell_type": "code",
      "source": [
        "squared_number = []\n",
        "for x in list_of_numbers:\n",
        "  s_number = x**2\n",
        "  print(s_number)\n",
        "\n",
        "  squared_number.append(s_number)\n"
      ],
      "metadata": {
        "id": "tTOPb_cMozz0",
        "outputId": "d6d3c2e0-d203-43f5-cf68-d24757ecca19",
        "colab": {
          "base_uri": "https://localhost:8080/"
        }
      },
      "execution_count": null,
      "outputs": [
        {
          "output_type": "stream",
          "name": "stdout",
          "text": [
            "1\n",
            "4\n",
            "16\n",
            "36\n",
            "121\n",
            "196\n",
            "289\n",
            "400\n"
          ]
        }
      ]
    },
    {
      "cell_type": "code",
      "source": [
        "print(squared_number)"
      ],
      "metadata": {
        "id": "-5mLm7EUq0D5",
        "outputId": "9b26802b-2f80-46e3-a420-ff9ae99ef355",
        "colab": {
          "base_uri": "https://localhost:8080/"
        }
      },
      "execution_count": null,
      "outputs": [
        {
          "output_type": "stream",
          "name": "stdout",
          "text": [
            "[1, 4, 16, 36, 121, 196, 289, 400]\n"
          ]
        }
      ]
    },
    {
      "cell_type": "code",
      "source": [
        "# lets zip\n",
        "y = dict(zip(list_of_numbers,squared_number))\n"
      ],
      "metadata": {
        "id": "ZEiZo47csNSR"
      },
      "execution_count": null,
      "outputs": []
    },
    {
      "cell_type": "code",
      "source": [
        "print(y)"
      ],
      "metadata": {
        "id": "kHs7_COdsxFw",
        "outputId": "181e8cea-32f4-4524-d640-98732de8f320",
        "colab": {
          "base_uri": "https://localhost:8080/"
        }
      },
      "execution_count": null,
      "outputs": [
        {
          "output_type": "stream",
          "name": "stdout",
          "text": [
            "{1: 1, 2: 4, 4: 16, 6: 36, 11: 121, 14: 196, 17: 289, 20: 400}\n"
          ]
        }
      ]
    },
    {
      "cell_type": "markdown",
      "source": [
        "![image.png](data:image/png;base64,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)"
      ],
      "metadata": {
        "id": "XbH6FoC8rR_N"
      }
    },
    {
      "cell_type": "code",
      "execution_count": null,
      "metadata": {
        "colab": {
          "base_uri": "https://localhost:8080/"
        },
        "id": "voeTyAKuqC4e",
        "outputId": "1e06b25a-6aa2-4cf4-8ba8-efbba08a885a"
      },
      "outputs": [
        {
          "output_type": "stream",
          "name": "stdout",
          "text": [
            "5\n",
            "89\n",
            "45\n",
            "5\n",
            "6\n",
            "89\n",
            "89\n"
          ]
        }
      ],
      "source": [
        "a = int(input())\n",
        "num = []\n",
        "for i in range(a):\n",
        "  num.append(int(input()))\n",
        "\n",
        "print(max(num))"
      ]
    },
    {
      "cell_type": "code",
      "source": [
        "a = input()\n",
        "words=a.split()\n",
        "reverse_word= [word[::-1] for word in words]\n",
        "print(\" \".join(reverse_word))"
      ],
      "metadata": {
        "id": "u3YGYt-Rb_m9",
        "outputId": "a94d64d7-17f2-40ff-9548-028d49cda7aa",
        "colab": {
          "base_uri": "https://localhost:8080/"
        }
      },
      "execution_count": null,
      "outputs": [
        {
          "output_type": "stream",
          "name": "stdout",
          "text": [
            "Pefrorm regression before every sprint release\n",
            "mrorfeP noisserger erofeb yreve tnirps esaeler\n"
          ]
        }
      ]
    },
    {
      "cell_type": "code",
      "source": [
        "import math\n",
        "\n",
        "def is_prime(n):\n",
        "    if n < 2:\n",
        "        return False\n",
        "    for i in range(2, int(math.sqrt(n)) + 1):\n",
        "        if n % i == 0:\n",
        "            return False\n",
        "    return True\n",
        "\n",
        "def find_three_prime_products(limit):\n",
        "    result = []\n",
        "    primes = [num for num in range(2, limit+1) if is_prime(num)]\n",
        "    for i in range(len(primes)):\n",
        "        for j in range(i+1, len(primes)):\n",
        "            for k in range(j+1, len(primes)):\n",
        "                product = primes[i] * primes[j] * primes[k]\n",
        "                if product <= limit:\n",
        "                    result.append([primes[i], primes[j], primes[k]])\n",
        "                else:\n",
        "                    break\n",
        "    return result\n",
        "\n",
        "limit = 50\n",
        "result = find_three_prime_products(limit)\n",
        "print(result)\n"
      ],
      "metadata": {
        "id": "wbXHBOcmJeB2",
        "outputId": "89a87e38-bb39-4f50-ff79-d1738b3c6dd7",
        "colab": {
          "base_uri": "https://localhost:8080/"
        }
      },
      "execution_count": null,
      "outputs": [
        {
          "output_type": "stream",
          "name": "stdout",
          "text": [
            "[[2, 3, 5], [2, 3, 7]]\n"
          ]
        }
      ]
    },
    {
      "cell_type": "markdown",
      "source": [
        "**Python String :**\n",
        "\n",
        "In Python, a string is a sequence of characters, enclosed within single quotes (' '), double quotes (\" \"), or triple quotes (\"\"\" \"\"\"). Strings are immutable, meaning once they are created, their contents cannot be changed. Python provides a variety of built-in methods to manipulate strings, making them versatile and powerful for text processing and manipulation."
      ],
      "metadata": {
        "id": "Dp4EJ7dZ4cjx"
      }
    },
    {
      "cell_type": "markdown",
      "source": [
        "**Creating Strings:**"
      ],
      "metadata": {
        "id": "5zNu44x04lJo"
      }
    },
    {
      "cell_type": "code",
      "source": [
        "# Using single quotes\n",
        "single_quoted_string = 'This is a single-quoted string.'\n",
        "\n",
        "# Using double quotes\n",
        "double_quoted_string = \"This is a double-quoted string.\"\n",
        "\n",
        "# Using triple quotes for multi-line strings\n",
        "multi_line_string = \"\"\"\n",
        "This is a multi-line string.\n",
        "It can span across multiple lines.\n",
        "\"\"\"\n"
      ],
      "metadata": {
        "id": "YspyjHZ94pMj"
      },
      "execution_count": null,
      "outputs": []
    },
    {
      "cell_type": "markdown",
      "source": [
        "**Accessing Characters in a String:**"
      ],
      "metadata": {
        "id": "jaLoCcpp4vk4"
      }
    },
    {
      "cell_type": "code",
      "source": [
        "my_string = \"Hello, World!\"\n",
        "\n",
        "print(my_string[0])   # Output: \"H\"\n",
        "print(my_string[7])   # Output: \"W\"\n"
      ],
      "metadata": {
        "colab": {
          "base_uri": "https://localhost:8080/"
        },
        "id": "_1ECKzCb4yR2",
        "outputId": "de2204dd-d7b7-4580-9b52-1d7ca4f10de2"
      },
      "execution_count": null,
      "outputs": [
        {
          "output_type": "stream",
          "name": "stdout",
          "text": [
            "H\n",
            "W\n"
          ]
        }
      ]
    },
    {
      "cell_type": "markdown",
      "source": [
        "**String Slicing:**"
      ],
      "metadata": {
        "id": "w5iGHHOR59s2"
      }
    },
    {
      "cell_type": "code",
      "source": [
        "my_string = \"Hello, World!\"\n",
        "\n",
        "print(my_string[0:5])   # Output: \"Hello\"\n",
        "print(my_string[7:])    # Output: \"World!\"\n"
      ],
      "metadata": {
        "colab": {
          "base_uri": "https://localhost:8080/"
        },
        "id": "RDKzaBwG43v0",
        "outputId": "06108827-5d8a-44e3-ae1b-54222cad0e17"
      },
      "execution_count": null,
      "outputs": [
        {
          "output_type": "stream",
          "name": "stdout",
          "text": [
            "Hello\n",
            "World!\n"
          ]
        }
      ]
    },
    {
      "cell_type": "markdown",
      "source": [
        "**Basic String Methods:**\n",
        "\n",
        "Python provides various built-in methods for manipulating strings. Some commonly used ones include:\n",
        "\n",
        "\n",
        "len(): Returns the length of the string.\n",
        "\n",
        "lower(): Converts the string to lowercase.\n",
        "\n",
        "upper(): Converts the string to uppercase.\n",
        "\n",
        "strip(): Removes leading and trailing whitespaces from the string.\n",
        "\n",
        "split(): Splits the string into a list of substrings based on a delimiter."
      ],
      "metadata": {
        "id": "MRWrJ6w06JpA"
      }
    },
    {
      "cell_type": "code",
      "source": [
        "my_string = \"   Hello, World!   \"\n",
        "\n",
        "print(len(my_string))          # Output: 19\n",
        "print(my_string.lower())       # Output: \"   hello, world!   \"\n",
        "print(my_string.upper())       # Output: \"   HELLO, WORLD!   \"\n",
        "print(my_string.strip())       # Output: \"Hello, World!\"\n",
        "print(my_string.split(\",\"))    # Output: ['   Hello', ' World!   ']\n"
      ],
      "metadata": {
        "colab": {
          "base_uri": "https://localhost:8080/"
        },
        "id": "mTGIzkJP6Sif",
        "outputId": "0f3602ad-bf07-4e72-d575-2ee9f59c530a"
      },
      "execution_count": null,
      "outputs": [
        {
          "output_type": "stream",
          "name": "stdout",
          "text": [
            "19\n",
            "   hello, world!   \n",
            "   HELLO, WORLD!   \n",
            "Hello, World!\n",
            "['   Hello', ' World!   ']\n"
          ]
        }
      ]
    },
    {
      "cell_type": "markdown",
      "source": [
        "**Creating Lists:**"
      ],
      "metadata": {
        "id": "11sC0v5U7A9I"
      }
    },
    {
      "cell_type": "code",
      "source": [
        "# Creating an empty list\n",
        "empty_list = []\n",
        "\n",
        "# Creating a list with initial values\n",
        "numbers = [1, 2, 3, 4, 5]\n",
        "fruits = [\"apple\", \"banana\", \"orange\"]\n",
        "mixed_list = [10, \"hello\", True, 3.14]\n"
      ],
      "metadata": {
        "id": "AHbkKIFD7E8g"
      },
      "execution_count": null,
      "outputs": []
    },
    {
      "cell_type": "code",
      "source": [
        "#Accessing List Elements:\n",
        "\n",
        "numbers = [1, 2, 3, 4, 5]\n",
        "\n",
        "print(numbers[0])   # Output: 1\n",
        "print(numbers[2])   # Output: 3"
      ],
      "metadata": {
        "colab": {
          "base_uri": "https://localhost:8080/"
        },
        "id": "zWC2bHqX7OXM",
        "outputId": "0acf45d7-29bc-4e41-f884-1302e80e9ee2"
      },
      "execution_count": null,
      "outputs": [
        {
          "output_type": "stream",
          "name": "stdout",
          "text": [
            "1\n",
            "3\n"
          ]
        }
      ]
    },
    {
      "cell_type": "code",
      "source": [
        "#list Slicing:\n",
        "\n",
        "\n",
        "\n",
        "numbers = [1, 2, 3, 4, 5]\n",
        "\n",
        "print(numbers[1:4])   # Output: [2, 3, 4]\n",
        "print(numbers[:3])    # Output: [1, 2, 3]\n",
        "print(numbers[2:])    # Output: [3, 4, 5]"
      ],
      "metadata": {
        "colab": {
          "base_uri": "https://localhost:8080/"
        },
        "id": "g-0ltPf-7WeW",
        "outputId": "b6fbcb2f-f0ba-47f6-b606-ca53b697478a"
      },
      "execution_count": null,
      "outputs": [
        {
          "output_type": "stream",
          "name": "stdout",
          "text": [
            "[2, 3, 4]\n",
            "[1, 2, 3]\n",
            "[3, 4, 5]\n"
          ]
        }
      ]
    },
    {
      "cell_type": "code",
      "source": [
        "# Modifying List Elements:\n",
        "\n",
        "numbers = [1, 2, 3, 4, 5]\n",
        "\n",
        "numbers[2] = 10\n",
        "print(numbers)   # Output: [1, 2, 10, 4, 5]"
      ],
      "metadata": {
        "colab": {
          "base_uri": "https://localhost:8080/"
        },
        "id": "7PJb-m8r7hlv",
        "outputId": "cafacafe-3b5e-48be-a456-d63d63cbf784"
      },
      "execution_count": null,
      "outputs": [
        {
          "output_type": "stream",
          "name": "stdout",
          "text": [
            "[1, 2, 10, 4, 5]\n"
          ]
        }
      ]
    },
    {
      "cell_type": "markdown",
      "source": [
        "**List Methods:**\n",
        "\n",
        "Python provides various built-in methods for working with lists. Some commonly used ones include:\n",
        "\n",
        "\n",
        "append(): Adds an element to the end of the list.\n",
        "\n",
        "insert(): Inserts an element at a specific index.\n",
        "\n",
        "remove(): Removes the first occurrence of a specified value.\n",
        "\n",
        "pop(): Removes and returns the element at a given index (or the last element if no index is provided).\n",
        "\n",
        "sort(): Sorts the list in ascending order (by default) or using a custom sorting function."
      ],
      "metadata": {
        "id": "Q-6g_UNM7qtX"
      }
    },
    {
      "cell_type": "code",
      "source": [
        "fruits = [\"apple\", \"banana\", \"orange\"]\n",
        "\n",
        "fruits.append(\"grape\")\n",
        "print(fruits)   # Output: [\"apple\", \"banana\", \"orange\", \"grape\"]\n",
        "\n",
        "fruits.insert(1, \"kiwi\")\n",
        "print(fruits)   # Output: [\"apple\", \"kiwi\", \"banana\", \"orange\", \"grape\"]\n",
        "\n",
        "fruits.remove(\"banana\")\n",
        "print(fruits)   # Output: [\"apple\", \"kiwi\", \"orange\", \"grape\"]\n",
        "\n",
        "last_fruit = fruits.pop()\n",
        "print(last_fruit)  # Output: \"grape\"\n",
        "print(fruits)      # Output: [\"apple\", \"kiwi\", \"orange\"]\n",
        "\n",
        "fruits.sort()\n",
        "print(fruits)   # Output: [\"apple\", \"kiwi\", \"orange\"]\n"
      ],
      "metadata": {
        "colab": {
          "base_uri": "https://localhost:8080/"
        },
        "id": "wAoJEsOT71OZ",
        "outputId": "64c46d29-8f04-4c46-90fe-59a324143cbb"
      },
      "execution_count": null,
      "outputs": [
        {
          "output_type": "stream",
          "name": "stdout",
          "text": [
            "['apple', 'banana', 'orange', 'grape']\n",
            "['apple', 'kiwi', 'banana', 'orange', 'grape']\n",
            "['apple', 'kiwi', 'orange', 'grape']\n",
            "grape\n",
            "['apple', 'kiwi', 'orange']\n",
            "['apple', 'kiwi', 'orange']\n"
          ]
        }
      ]
    },
    {
      "cell_type": "code",
      "source": [
        "# Creating a list of student names\n",
        "students = [\"Alice\", \"Bob\", \"Charlie\", \"David\"]\n",
        "\n",
        "# Accessing an element\n",
        "print(students[0])   # Output: \"Alice\"\n",
        "\n",
        "# Modifying an element\n",
        "students[2] = \"Charlie Brown\"\n",
        "print(students)      # Output: [\"Alice\", \"Bob\", \"Charlie Brown\", \"David\"]\n",
        "\n",
        "# Appending a new student\n",
        "students.append(\"Eva\")\n",
        "print(students)      # Output: [\"Alice\", \"Bob\", \"Charlie Brown\", \"David\", \"Eva\"]\n",
        "\n",
        "# Removing a student\n",
        "students.remove(\"Bob\")\n",
        "print(students)      # Output: [\"Alice\", \"Charlie Brown\", \"David\", \"Eva\"]\n",
        "\n",
        "# Slicing the list\n",
        "selected_students = students[1:3]\n",
        "print(selected_students)  # Output: [\"Charlie Brown\", \"David\"]\n"
      ],
      "metadata": {
        "colab": {
          "base_uri": "https://localhost:8080/"
        },
        "id": "uzB4eE6W78S4",
        "outputId": "a1a9139e-8c93-4af7-835a-dd63c7b4168c"
      },
      "execution_count": null,
      "outputs": [
        {
          "output_type": "stream",
          "name": "stdout",
          "text": [
            "Alice\n",
            "['Alice', 'Bob', 'Charlie Brown', 'David']\n",
            "['Alice', 'Bob', 'Charlie Brown', 'David', 'Eva']\n",
            "['Alice', 'Charlie Brown', 'David', 'Eva']\n",
            "['Charlie Brown', 'David']\n"
          ]
        }
      ]
    },
    {
      "cell_type": "markdown",
      "source": [
        "**Creating Tuples:**\n",
        "\n",
        "We can create a tuple by enclosing elements within parentheses, separated by commas:"
      ],
      "metadata": {
        "id": "tTlJkknq8R1o"
      }
    },
    {
      "cell_type": "code",
      "source": [
        "# Creating an empty tuple\n",
        "empty_tuple = ()\n",
        "\n",
        "# Creating a tuple with initial values\n",
        "numbers = (1, 2, 3, 4, 5)\n",
        "fruits = (\"apple\", \"banana\", \"orange\")\n",
        "mixed_tuple = (10, \"hello\", True, 3.14)\n"
      ],
      "metadata": {
        "id": "K4TrJ-Xu8ZYX"
      },
      "execution_count": null,
      "outputs": []
    },
    {
      "cell_type": "code",
      "source": [
        "# Accessing Tuple Elements:\n",
        "\n",
        "numbers = (1, 2, 3, 4, 5)\n",
        "\n",
        "print(numbers[0])   # Output: 1\n",
        "print(numbers[2])   # Output: 3"
      ],
      "metadata": {
        "colab": {
          "base_uri": "https://localhost:8080/"
        },
        "id": "VCRTH5sn8ge-",
        "outputId": "f998eec3-7f62-4ef5-bcca-38221ab520c3"
      },
      "execution_count": null,
      "outputs": [
        {
          "output_type": "stream",
          "name": "stdout",
          "text": [
            "1\n",
            "3\n"
          ]
        }
      ]
    },
    {
      "cell_type": "code",
      "source": [
        "# Tuple Slicing:\n",
        "\n",
        "numbers = (1, 2, 3, 4, 5)\n",
        "\n",
        "print(numbers[1:4])   # Output: (2, 3, 4)\n",
        "print(numbers[:3])    # Output: (1, 2, 3)\n",
        "print(numbers[2:])    # Output: (3, 4, 5)"
      ],
      "metadata": {
        "colab": {
          "base_uri": "https://localhost:8080/"
        },
        "id": "AJOeuLc68nuO",
        "outputId": "db3bafd9-a92a-4c2c-a0c1-cc926d000eb2"
      },
      "execution_count": null,
      "outputs": [
        {
          "output_type": "stream",
          "name": "stdout",
          "text": [
            "(2, 3, 4)\n",
            "(1, 2, 3)\n",
            "(3, 4, 5)\n"
          ]
        }
      ]
    },
    {
      "cell_type": "markdown",
      "source": [
        "**Advantages of Tuple:**\n",
        "\n",
        "**Immutable:** Once a tuple is created, you cannot modify its elements. This property makes tuples useful for situations where you want to ensure data integrity and prevent accidental changes.\n",
        "\n",
        "**Hashable**: Tuples are hashable and can be used as keys in dictionaries, which is not possible with lists (since lists are mutable).\n",
        "\n",
        "P**erformance:** Tuples are generally slightly faster than lists due to their immutability."
      ],
      "metadata": {
        "id": "1637PZAE8xAO"
      }
    },
    {
      "cell_type": "code",
      "source": [
        "# Creating a point tuple\n",
        "\n",
        "point = (3, 7)\n",
        "\n",
        "# Accessing elements\n",
        "print(point[0])   # Output: 3\n",
        "print(point[1])   # Output: 7\n",
        "\n",
        "# Trying to modify the tuple (will raise an error)\n",
        "point[0] = 5     # Raises TypeError: 'tuple' object does not support item assignment\n"
      ],
      "metadata": {
        "colab": {
          "base_uri": "https://localhost:8080/",
          "height": 235
        },
        "id": "0_-7c9wZ85QH",
        "outputId": "a42218e0-3d73-4f1c-973d-1f228583a0c7"
      },
      "execution_count": null,
      "outputs": [
        {
          "output_type": "stream",
          "name": "stdout",
          "text": [
            "3\n",
            "7\n"
          ]
        },
        {
          "output_type": "error",
          "ename": "TypeError",
          "evalue": "ignored",
          "traceback": [
            "\u001b[0;31m---------------------------------------------------------------------------\u001b[0m",
            "\u001b[0;31mTypeError\u001b[0m                                 Traceback (most recent call last)",
            "\u001b[0;32m<ipython-input-15-0c067c419950>\u001b[0m in \u001b[0;36m<cell line: 10>\u001b[0;34m()\u001b[0m\n\u001b[1;32m      8\u001b[0m \u001b[0;34m\u001b[0m\u001b[0m\n\u001b[1;32m      9\u001b[0m \u001b[0;31m# Trying to modify the tuple (will raise an error)\u001b[0m\u001b[0;34m\u001b[0m\u001b[0;34m\u001b[0m\u001b[0m\n\u001b[0;32m---> 10\u001b[0;31m \u001b[0mpoint\u001b[0m\u001b[0;34m[\u001b[0m\u001b[0;36m0\u001b[0m\u001b[0;34m]\u001b[0m \u001b[0;34m=\u001b[0m \u001b[0;36m5\u001b[0m     \u001b[0;31m# Raises TypeError: 'tuple' object does not support item assignment\u001b[0m\u001b[0;34m\u001b[0m\u001b[0;34m\u001b[0m\u001b[0m\n\u001b[0m",
            "\u001b[0;31mTypeError\u001b[0m: 'tuple' object does not support item assignment"
          ]
        }
      ]
    },
    {
      "cell_type": "markdown",
      "source": [
        "**Creating Sets:**\n",
        "\n",
        "we can create a set by enclosing elements within curly braces or using the set() constructor:"
      ],
      "metadata": {
        "id": "7JITqz8s9XbA"
      }
    },
    {
      "cell_type": "code",
      "source": [
        "# Creating an empty set\n",
        "empty_set = set()\n",
        "\n",
        "# Creating a set with initial values\n",
        "numbers = {1, 2, 3, 4, 5}\n",
        "fruits = {\"apple\", \"banana\", \"orange\"}\n",
        "mixed_set = {10, \"hello\", True, 3.14}\n"
      ],
      "metadata": {
        "id": "NUZAiuOs9e9P"
      },
      "execution_count": null,
      "outputs": []
    },
    {
      "cell_type": "code",
      "source": [
        "# Set Operations:\n",
        "# Sets in Python support various set operations such as union, intersection, difference, and more.\n",
        "\n",
        "\n",
        "set1 = {1, 2, 3, 4}\n",
        "set2 = {3, 4, 5, 6}\n",
        "\n",
        "# Union of two sets\n",
        "union_set = set1.union(set2)\n",
        "print(union_set)   # Output: {1, 2, 3, 4, 5, 6}\n",
        "\n",
        "# Intersection of two sets\n",
        "intersection_set = set1.intersection(set2)\n",
        "print(intersection_set)   # Output: {3, 4}\n",
        "\n",
        "# Difference between two sets\n",
        "difference_set = set1.difference(set2)\n",
        "print(difference_set)   # Output: {1, 2}"
      ],
      "metadata": {
        "colab": {
          "base_uri": "https://localhost:8080/"
        },
        "id": "groCkQ2P9mSf",
        "outputId": "a6affe03-98b5-4c01-8501-93152abc3320"
      },
      "execution_count": null,
      "outputs": [
        {
          "output_type": "stream",
          "name": "stdout",
          "text": [
            "{1, 2, 3, 4, 5, 6}\n",
            "{3, 4}\n",
            "{1, 2}\n"
          ]
        }
      ]
    },
    {
      "cell_type": "code",
      "source": [
        "#Modifying Sets:\n",
        "#Sets are mutable, so you can add and remove elements from a set:\n",
        "\n",
        "\n",
        "fruits = {\"apple\", \"banana\", \"orange\"}\n",
        "\n",
        "# Adding elements\n",
        "fruits.add(\"grape\")\n",
        "print(fruits)   # Output: {\"apple\", \"banana\", \"orange\", \"grape\"}\n",
        "\n",
        "# Removing elements\n",
        "fruits.remove(\"banana\")\n",
        "print(fruits)   # Output: {\"apple\", \"orange\"}"
      ],
      "metadata": {
        "colab": {
          "base_uri": "https://localhost:8080/"
        },
        "id": "64WUwjJr9xmo",
        "outputId": "c970406b-f89f-4938-b471-1f0e31b3e303"
      },
      "execution_count": null,
      "outputs": [
        {
          "output_type": "stream",
          "name": "stdout",
          "text": [
            "{'orange', 'banana', 'grape', 'apple'}\n",
            "{'orange', 'grape', 'apple'}\n"
          ]
        }
      ]
    },
    {
      "cell_type": "markdown",
      "source": [
        "**Creating Dictionaries:**\n",
        "\n",
        "We can create a dictionary using curly braces and specifying key-value pairs:"
      ],
      "metadata": {
        "id": "xFHtAhxD-SDH"
      }
    },
    {
      "cell_type": "code",
      "source": [
        "# Empty dictionary\n",
        "my_dict = {}\n",
        "\n",
        "# Dictionary with initial values\n",
        "my_dict = {\"name\": \"John\", \"age\": 30, \"city\": \"New York\"}\n"
      ],
      "metadata": {
        "id": "4mF36uvV-Wsm"
      },
      "execution_count": null,
      "outputs": []
    },
    {
      "cell_type": "code",
      "source": [
        "# Accessing Values in a Dictionary:\n",
        "# We can access the values in a dictionary using the corresponding key:\n",
        "\n",
        "\n",
        "my_dict = {\"name\": \"John\", \"age\": 30, \"city\": \"New York\"}\n",
        "\n",
        "print(my_dict[\"name\"])  # Output: \"John\"\n",
        "print(my_dict[\"age\"])   # Output: 30"
      ],
      "metadata": {
        "colab": {
          "base_uri": "https://localhost:8080/"
        },
        "id": "uvzcVA2r-b3f",
        "outputId": "c3bdddd2-9414-4740-ce67-84e2071e5dd9"
      },
      "execution_count": null,
      "outputs": [
        {
          "output_type": "stream",
          "name": "stdout",
          "text": [
            "John\n",
            "30\n"
          ]
        }
      ]
    },
    {
      "cell_type": "code",
      "source": [
        "# Modifying and Adding Entries:\n",
        "# We can modify the values of existing keys or add new key-value pairs to the dictionary:\n",
        "\n",
        "\n",
        "my_dict = {\"name\": \"John\", \"age\": 30, \"city\": \"New York\"}\n",
        "\n",
        "# Modify an existing entry\n",
        "my_dict[\"age\"] = 31\n",
        "\n",
        "# Add a new entry\n",
        "my_dict[\"occupation\"] = \"Engineer\"\n",
        "\n",
        "print(my_dict)\n",
        "# Output: {\"name\": \"John\", \"age\": 31, \"city\": \"New York\", \"occupation\": \"Engineer\"}"
      ],
      "metadata": {
        "colab": {
          "base_uri": "https://localhost:8080/"
        },
        "id": "SXoeszyq_QDf",
        "outputId": "dda838c5-487c-400b-e0d8-9ce41a4c66ea"
      },
      "execution_count": null,
      "outputs": [
        {
          "output_type": "stream",
          "name": "stdout",
          "text": [
            "{'name': 'John', 'age': 31, 'city': 'New York', 'occupation': 'Engineer'}\n"
          ]
        }
      ]
    },
    {
      "cell_type": "markdown",
      "source": [
        "**Dictionary Methods:**\n",
        "\n",
        "Python provides various methods to work with dictionaries. Some commonly used ones include:\n",
        "\n",
        "**keys():** Returns a list of all the keys in the dictionary.\n",
        "\n",
        "**values():** Returns a list of all the values in the dictionary.\n",
        "\n",
        "**items():** Returns a list of tuples containing key-value pairs."
      ],
      "metadata": {
        "id": "Apma7NAf_hbZ"
      }
    },
    {
      "cell_type": "code",
      "source": [
        "my_dict = {\"name\": \"John\", \"age\": 30, \"city\": \"New York\"}\n",
        "\n",
        "print(my_dict.keys())    # Output: dict_keys(['name', 'age', 'city'])\n",
        "print(my_dict.values())  # Output: dict_values(['John', 30, 'New York'])\n",
        "print(my_dict.items())   # Output: dict_items([('name', 'John'), ('age', 30), ('city', 'New York')])\n"
      ],
      "metadata": {
        "colab": {
          "base_uri": "https://localhost:8080/"
        },
        "id": "5AbmBgB-_gyQ",
        "outputId": "804c07cc-6a6c-4063-c4f9-1e61c660c25f"
      },
      "execution_count": null,
      "outputs": [
        {
          "output_type": "stream",
          "name": "stdout",
          "text": [
            "dict_keys(['name', 'age', 'city'])\n",
            "dict_values(['John', 30, 'New York'])\n",
            "dict_items([('name', 'John'), ('age', 30), ('city', 'New York')])\n"
          ]
        }
      ]
    },
    {
      "cell_type": "code",
      "source": [
        "# Creating a person dictionary\n",
        "person = {\n",
        "    \"name\": \"Alice\",\n",
        "    \"age\": 25,\n",
        "    \"city\": \"London\",\n",
        "    \"occupation\": \"Teacher\"\n",
        "}\n",
        "\n",
        "# Accessing values\n",
        "print(person[\"name\"])        # Output: \"Alice\"\n",
        "print(person[\"occupation\"])  # Output: \"Teacher\"\n"
      ],
      "metadata": {
        "colab": {
          "base_uri": "https://localhost:8080/"
        },
        "id": "iBriiL-w_ue_",
        "outputId": "1f436065-fcf8-43f2-95c8-b75e38c2f91e"
      },
      "execution_count": null,
      "outputs": [
        {
          "output_type": "stream",
          "name": "stdout",
          "text": [
            "Alice\n",
            "Teacher\n"
          ]
        }
      ]
    },
    {
      "cell_type": "markdown",
      "source": [
        "**Python If-Else Short**\n",
        "\n",
        "In Python, the if-else statement is used to make decisions based on conditions. It allows you to execute different blocks of code depending on whether a given condition is true or false. The syntax of an if-else statement is as follows:"
      ],
      "metadata": {
        "id": "Tn3tot_XASUP"
      }
    },
    {
      "cell_type": "code",
      "source": [
        "if condition:\n",
        "    # Code to be executed if the condition is true\n",
        "else:\n",
        "    # Code to be executed if the condition is false\n"
      ],
      "metadata": {
        "id": "77HzHBiVAY22"
      },
      "execution_count": null,
      "outputs": []
    },
    {
      "cell_type": "code",
      "source": [
        "# Input number\n",
        "number = 15\n",
        "\n",
        "# Checking if the number is even or odd\n",
        "if number % 2 == 0:\n",
        "    print(f\"{number} is even.\")\n",
        "else:\n",
        "    print(f\"{number} is odd.\")\n"
      ],
      "metadata": {
        "colab": {
          "base_uri": "https://localhost:8080/"
        },
        "id": "jyFMoehAAt3f",
        "outputId": "2d9a256e-1f62-43f2-c3ca-5c6937fea2f5"
      },
      "execution_count": null,
      "outputs": [
        {
          "output_type": "stream",
          "name": "stdout",
          "text": [
            "15 is odd.\n"
          ]
        }
      ]
    },
    {
      "cell_type": "markdown",
      "source": [
        "**Nested If-Else:**"
      ],
      "metadata": {
        "id": "a9WZWq55A4De"
      }
    },
    {
      "cell_type": "code",
      "source": [
        "# Input marks\n",
        "marks = 85\n",
        "\n",
        "# Grading the student based on marks\n",
        "if marks >= 90:\n",
        "    grade = \"A+\"\n",
        "elif marks >= 80:\n",
        "    grade = \"A\"\n",
        "elif marks >= 70:\n",
        "    grade = \"B\"\n",
        "elif marks >= 60:\n",
        "    grade = \"C\"\n",
        "else:\n",
        "    grade = \"Fail\"\n",
        "\n",
        "print(f\"The student's grade is: {grade}\")\n"
      ],
      "metadata": {
        "colab": {
          "base_uri": "https://localhost:8080/"
        },
        "id": "TiYGx_-vA3QH",
        "outputId": "001c39e0-eae2-4f15-84d2-f6373a5d143d"
      },
      "execution_count": null,
      "outputs": [
        {
          "output_type": "stream",
          "name": "stdout",
          "text": [
            "The student's grade is: A\n"
          ]
        }
      ]
    },
    {
      "cell_type": "markdown",
      "source": [
        "**While Loops**"
      ],
      "metadata": {
        "id": "9q0YdfG_BFSG"
      }
    },
    {
      "cell_type": "code",
      "source": [
        "# With the while loop we can execute a set of statements as long as a condition is true.\n",
        "i = 1\n",
        "while i < 6:\n",
        "  print(i)\n",
        "  if i == 3:\n",
        "    break\n",
        "  i += 1"
      ],
      "metadata": {
        "colab": {
          "base_uri": "https://localhost:8080/"
        },
        "id": "9k1xOCvMBEHG",
        "outputId": "f0711c99-ecee-4651-e582-abae34565e7e"
      },
      "execution_count": null,
      "outputs": [
        {
          "output_type": "stream",
          "name": "stdout",
          "text": [
            "1\n",
            "2\n",
            "3\n"
          ]
        }
      ]
    },
    {
      "cell_type": "markdown",
      "source": [
        "**For Loops**"
      ],
      "metadata": {
        "id": "gwe64ZVrBNjP"
      }
    },
    {
      "cell_type": "code",
      "source": [
        "fruits = [\"apple\", \"banana\", \"cherry\"]\n",
        "for x in fruits:\n",
        "  print(x)"
      ],
      "metadata": {
        "colab": {
          "base_uri": "https://localhost:8080/"
        },
        "id": "_MRri3AmBPZf",
        "outputId": "439de133-f11b-45ad-eaff-7acc9c9f32fc"
      },
      "execution_count": null,
      "outputs": [
        {
          "output_type": "stream",
          "name": "stdout",
          "text": [
            "apple\n",
            "banana\n",
            "cherry\n"
          ]
        }
      ]
    },
    {
      "cell_type": "markdown",
      "source": [
        "**Python Function**"
      ],
      "metadata": {
        "id": "RDMFrJnhBs_w"
      }
    },
    {
      "cell_type": "markdown",
      "source": [
        "**Defining a Function:**\n",
        "\n",
        "We can define a function using the def keyword followed by the function name, a pair of parentheses, and a colon. The code inside the function is indented and forms the function body."
      ],
      "metadata": {
        "id": "4STUZx_8Bznv"
      }
    },
    {
      "cell_type": "code",
      "source": [
        "# Function definition\n",
        "def greet(name):\n",
        "    print(f\"Hello, {name}!\")\n"
      ],
      "metadata": {
        "id": "glv-_rRfB5rg"
      },
      "execution_count": null,
      "outputs": []
    },
    {
      "cell_type": "code",
      "source": [
        "# Calling the function\n",
        "greet(\"Alice\")\n",
        "# Output: \"Hello, Alice!\"\n"
      ],
      "metadata": {
        "colab": {
          "base_uri": "https://localhost:8080/"
        },
        "id": "KVZi6OntB9_h",
        "outputId": "f613141c-dc58-4380-d24b-ac9805f62f0c"
      },
      "execution_count": null,
      "outputs": [
        {
          "output_type": "stream",
          "name": "stdout",
          "text": [
            "Hello, Alice!\n"
          ]
        }
      ]
    },
    {
      "cell_type": "code",
      "source": [
        "# Function with return value\n",
        "def add(a, b):\n",
        "    return a + b\n",
        "\n",
        "# Calling the function and using the returned value\n",
        "result = add(3, 5)\n",
        "print(result)   # Output: 8\n"
      ],
      "metadata": {
        "colab": {
          "base_uri": "https://localhost:8080/"
        },
        "id": "Rl5VNnXHCAnP",
        "outputId": "a2a98e9f-6d83-4954-f158-90f988445c27"
      },
      "execution_count": null,
      "outputs": [
        {
          "output_type": "stream",
          "name": "stdout",
          "text": [
            "8\n"
          ]
        }
      ]
    },
    {
      "cell_type": "code",
      "source": [
        "# Lambda function to calculate the square of a number\n",
        "square = lambda x: x**2\n",
        "\n",
        "# Using the lambda function\n",
        "result = square(5)\n",
        "print(result)   # Output: 25\n"
      ],
      "metadata": {
        "colab": {
          "base_uri": "https://localhost:8080/"
        },
        "id": "0EN7XBPsCE8_",
        "outputId": "e7f842d3-8a62-4d23-d4be-90b6785397d2"
      },
      "execution_count": null,
      "outputs": [
        {
          "output_type": "stream",
          "name": "stdout",
          "text": [
            "25\n"
          ]
        }
      ]
    },
    {
      "cell_type": "code",
      "source": [
        "def is_even_or_odd(number):\n",
        "    if number % 2 == 0:\n",
        "        return \"Even\"\n",
        "    else:\n",
        "        return \"Odd\"\n",
        "\n",
        "# Calling the function\n",
        "result = is_even_or_odd(7)\n",
        "print(result)   # Output: \"Odd\"\n"
      ],
      "metadata": {
        "colab": {
          "base_uri": "https://localhost:8080/"
        },
        "id": "3rmh-KztCINY",
        "outputId": "c68c2c97-e173-4c2e-8484-2aef2d80e105"
      },
      "execution_count": null,
      "outputs": [
        {
          "output_type": "stream",
          "name": "stdout",
          "text": [
            "Odd\n"
          ]
        }
      ]
    },
    {
      "cell_type": "markdown",
      "source": [
        "**NumPy**"
      ],
      "metadata": {
        "id": "wOKt9aI-Cn1e"
      }
    },
    {
      "cell_type": "markdown",
      "source": [
        "NumPy (Numerical Python) is a powerful library for numerical computing in Python. It provides support for large, multi-dimensional arrays and matrices, along with a wide range of mathematical functions to operate on these arrays efficiently. NumPy is a fundamental library for scientific computing and data analysis in Python."
      ],
      "metadata": {
        "id": "ioS8md6cCtlY"
      }
    },
    {
      "cell_type": "markdown",
      "source": [
        "**Creating NumPy Arrays:**"
      ],
      "metadata": {
        "id": "5M77abvDC0NA"
      }
    },
    {
      "cell_type": "code",
      "source": [
        "import numpy as np\n",
        "\n",
        "# Creating a NumPy array from a Python list\n",
        "my_list = [1, 2, 3, 4, 5]\n",
        "my_array = np.array(my_list)\n",
        "print(my_array)  # Output: [1 2 3 4 5]\n",
        "\n",
        "# Creating a NumPy array of zeros with a specified shape\n",
        "zeros_array = np.zeros((3, 4))\n",
        "print(zeros_array)\n",
        "# Output:\n",
        "# [[0. 0. 0. 0.]\n",
        "#  [0. 0. 0. 0.]\n",
        "#  [0. 0. 0. 0.]]\n"
      ],
      "metadata": {
        "colab": {
          "base_uri": "https://localhost:8080/"
        },
        "id": "0nRfu_SPCqHX",
        "outputId": "ec459482-b656-473a-ac36-99b6d9e95a00"
      },
      "execution_count": null,
      "outputs": [
        {
          "output_type": "stream",
          "name": "stdout",
          "text": [
            "[1 2 3 4 5]\n",
            "[[0. 0. 0. 0.]\n",
            " [0. 0. 0. 0.]\n",
            " [0. 0. 0. 0.]]\n"
          ]
        }
      ]
    },
    {
      "cell_type": "markdown",
      "source": [
        "**NumPy Array Operations:**\n",
        "\n",
        "NumPy arrays support various mathematical operations, including element-wise operations, broadcasting, and more. These operations are significantly faster than standard Python list operations."
      ],
      "metadata": {
        "id": "1w3rovuyDFHe"
      }
    },
    {
      "cell_type": "code",
      "source": [
        "import numpy as np\n",
        "\n",
        "# Element-wise operations\n",
        "array1 = np.array([1, 2, 3])\n",
        "array2 = np.array([4, 5, 6])\n",
        "\n",
        "print(array1 + array2)  # Output: [5 7 9]\n",
        "print(array1 * array2)  # Output: [ 4 10 18]\n",
        "\n",
        "# Broadcasting\n",
        "array = np.array([1, 2, 3])\n",
        "scalar = 2\n",
        "\n",
        "print(array + scalar)  # Output: [3 4 5]\n",
        "print(array * scalar)  # Output: [2 4 6]\n"
      ],
      "metadata": {
        "colab": {
          "base_uri": "https://localhost:8080/"
        },
        "id": "m0CnAk0_DJcO",
        "outputId": "b2d42a80-41ad-46c4-d3aa-d5a4bcd92eb8"
      },
      "execution_count": null,
      "outputs": [
        {
          "output_type": "stream",
          "name": "stdout",
          "text": [
            "[5 7 9]\n",
            "[ 4 10 18]\n",
            "[3 4 5]\n",
            "[2 4 6]\n"
          ]
        }
      ]
    },
    {
      "cell_type": "code",
      "source": [
        "# Indexing and Slicing NumPy Arrays:\n",
        "# We can access elements of a NumPy array using indexing and slicing, similar to Python lists.\n",
        "\n",
        "\n",
        "import numpy as np\n",
        "\n",
        "my_array = np.array([1, 2, 3, 4, 5])\n",
        "\n",
        "print(my_array[0])     # Output: 1\n",
        "print(my_array[1:4])   # Output: [2 3 4]"
      ],
      "metadata": {
        "colab": {
          "base_uri": "https://localhost:8080/"
        },
        "id": "4FJGEfaODPiG",
        "outputId": "3d3e0183-a7f1-4c32-9172-646d5c2e4c84"
      },
      "execution_count": null,
      "outputs": [
        {
          "output_type": "stream",
          "name": "stdout",
          "text": [
            "1\n",
            "[2 3 4]\n"
          ]
        }
      ]
    },
    {
      "cell_type": "code",
      "source": [
        "import numpy as np\n",
        "\n",
        "# Input data\n",
        "data = [10, 20, 30, 40, 50]\n",
        "\n",
        "# Calculating the mean using NumPy\n",
        "mean = np.mean(data)\n",
        "print(\"Mean:\", mean)   # Output: Mean: 30.0\n"
      ],
      "metadata": {
        "colab": {
          "base_uri": "https://localhost:8080/"
        },
        "id": "evGM9SdbDadh",
        "outputId": "410e79f2-5d02-449a-c12a-a243ac644512"
      },
      "execution_count": null,
      "outputs": [
        {
          "output_type": "stream",
          "name": "stdout",
          "text": [
            "Mean: 30.0\n"
          ]
        }
      ]
    },
    {
      "cell_type": "markdown",
      "source": [
        "**Python Pandas :**\n",
        "\n",
        "Pandas is a powerful library for data manipulation and analysis in Python. It provides data structures like Series (1-dimensional labeled arrays) and DataFrame (2-dimensional labeled data tables) that allow you to work with structured and time-series data efficiently. Pandas is widely used in data science and data analysis tasks."
      ],
      "metadata": {
        "id": "OALCrHIwEZsp"
      }
    },
    {
      "cell_type": "code",
      "source": [
        "# Creating Pandas Series:\n",
        "# A Pandas Series is a 1-dimensional labeled array that can hold various data types. You can create a Series from a Python list or NumPy array.\n",
        "\n",
        "\n",
        "import pandas as pd\n",
        "\n",
        "# Creating a Pandas Series from a Python list\n",
        "my_list = [10, 20, 30, 40, 50]\n",
        "my_series = pd.Series(my_list)\n",
        "print(my_series)\n",
        "# Output:\n",
        "# 0    10\n",
        "# 1    20\n",
        "# 2    30\n",
        "# 3    40\n",
        "# 4    50\n",
        "# dtype: int64"
      ],
      "metadata": {
        "colab": {
          "base_uri": "https://localhost:8080/"
        },
        "id": "9LdsIG9kEl5Z",
        "outputId": "c4ab02d3-fc98-40f3-858c-45c9a6542b6f"
      },
      "execution_count": null,
      "outputs": [
        {
          "output_type": "stream",
          "name": "stdout",
          "text": [
            "0    10\n",
            "1    20\n",
            "2    30\n",
            "3    40\n",
            "4    50\n",
            "dtype: int64\n"
          ]
        }
      ]
    },
    {
      "cell_type": "code",
      "source": [
        "# Creating Pandas DataFrame:\n",
        "# A Pandas DataFrame is a 2-dimensional labeled data table with rows and columns. You can create a DataFrame from a Python dictionary, a list of dictionaries, or a NumPy array.\n",
        "\n",
        "\n",
        "import pandas as pd\n",
        "\n",
        "# Creating a Pandas DataFrame from a dictionary\n",
        "data = {\n",
        "    \"Name\": [\"Alice\", \"Bob\", \"Charlie\"],\n",
        "    \"Age\": [25, 30, 35],\n",
        "    \"City\": [\"New York\", \"London\", \"Tokyo\"]\n",
        "}\n",
        "\n",
        "df = pd.DataFrame(data)\n",
        "print(df)\n",
        "# Output:\n",
        "#       Name  Age      City\n",
        "# 0    Alice   25  New York\n",
        "# 1      Bob   30    London\n",
        "# 2  Charlie   35     Tokyo"
      ],
      "metadata": {
        "colab": {
          "base_uri": "https://localhost:8080/"
        },
        "id": "rlmcN0Z3E70b",
        "outputId": "7abba4e1-1f78-4f58-b266-b25c25d1f4d7"
      },
      "execution_count": null,
      "outputs": [
        {
          "output_type": "stream",
          "name": "stdout",
          "text": [
            "      Name  Age      City\n",
            "0    Alice   25  New York\n",
            "1      Bob   30    London\n",
            "2  Charlie   35     Tokyo\n"
          ]
        }
      ]
    },
    {
      "cell_type": "code",
      "source": [
        "# Reading Data from Files:\n",
        "# Pandas can read data from various file formats, such as CSV, Excel, SQL databases, and more.\n",
        "\n",
        "\n",
        "import pandas as pd\n",
        "\n",
        "# Reading data from a CSV file\n",
        "df = pd.read_csv(\"data.csv\")\n",
        "print(df.head())"
      ],
      "metadata": {
        "id": "SA1A-tBxFE3f"
      },
      "execution_count": null,
      "outputs": []
    },
    {
      "cell_type": "markdown",
      "source": [
        "**Data Analysis with Pandas:**\n",
        "\n",
        "Pandas provides various functions and methods to perform data analysis and manipulation tasks, such as filtering, grouping, merging, sorting, and more."
      ],
      "metadata": {
        "id": "RZdb1JhIFTm6"
      }
    },
    {
      "cell_type": "code",
      "source": [
        "import pandas as pd\n",
        "\n",
        "# Example DataFrame\n",
        "data = {\n",
        "    \"Name\": [\"Alice\", \"Bob\", \"Charlie\", \"David\"],\n",
        "    \"Age\": [25, 30, 35, 40],\n",
        "    \"City\": [\"New York\", \"London\", \"Tokyo\", \"Paris\"]\n",
        "}\n",
        "\n",
        "df = pd.DataFrame(data)\n",
        "\n",
        "# Filtering data\n",
        "young_people = df[df[\"Age\"] < 35]\n",
        "print(young_people)\n",
        "# Output:\n",
        "#    Name  Age    City\n",
        "# 0  Alice   25  New York\n",
        "# 1    Bob   30   London\n",
        "\n",
        "# Grouping data\n",
        "grouped_cities = df.groupby(\"City\").count()\n",
        "print(grouped_cities)\n",
        "# Output:\n",
        "#           Name  Age\n",
        "# City\n",
        "# London       1    1\n",
        "# New York     1    1\n",
        "# Paris        1    1\n",
        "# Tokyo        1    1\n"
      ],
      "metadata": {
        "colab": {
          "base_uri": "https://localhost:8080/"
        },
        "id": "rgURy0kFFYiF",
        "outputId": "a0c1766e-cea1-4b85-b9aa-5240098d357f"
      },
      "execution_count": null,
      "outputs": [
        {
          "output_type": "stream",
          "name": "stdout",
          "text": [
            "    Name  Age      City\n",
            "0  Alice   25  New York\n",
            "1    Bob   30    London\n",
            "          Name  Age\n",
            "City               \n",
            "London       1    1\n",
            "New York     1    1\n",
            "Paris        1    1\n",
            "Tokyo        1    1\n"
          ]
        }
      ]
    },
    {
      "cell_type": "code",
      "source": [
        "import pandas as pd\n",
        "import matplotlib.pyplot as plt\n",
        "\n",
        "# Sample data\n",
        "data = [10, 20, 30, 40, 50]\n",
        "\n",
        "# Creating a Pandas Series\n",
        "my_series = pd.Series(data)\n",
        "\n",
        "# Calculating the mean\n",
        "mean = my_series.mean()\n",
        "print(\"Mean:\", mean)   # Output: Mean: 30.0\n",
        "\n",
        "# Plotting the data\n",
        "my_series.plot(kind=\"bar\")\n",
        "plt.show()\n"
      ],
      "metadata": {
        "colab": {
          "base_uri": "https://localhost:8080/",
          "height": 442
        },
        "id": "kZhN8guBFeGH",
        "outputId": "03abf3fa-60bd-40dc-8369-304dcf592dc3"
      },
      "execution_count": null,
      "outputs": [
        {
          "output_type": "stream",
          "name": "stdout",
          "text": [
            "Mean: 30.0\n"
          ]
        },
        {
          "output_type": "display_data",
          "data": {
            "text/plain": [
              "<Figure size 640x480 with 1 Axes>"
            ],
            "image/png": "[encoded data removed]"
          },
          "metadata": {}
        }
      ]
    },
    {
      "cell_type": "markdown",
      "source": [
        "# **Python Seaborn :**\n",
        "\n",
        "Seaborn is a data visualization library built on top of Matplotlib. It provides a high-level interface for creating attractive and informative statistical graphics. Seaborn simplifies the process of creating complex visualizations and allows you to create aesthetically pleasing plots with minimal code."
      ],
      "metadata": {
        "id": "RqH4PcM8OM7F"
      }
    },
    {
      "cell_type": "markdown",
      "source": [
        "**Seaborn Plots:**\n",
        "\n",
        "Seaborn provides a variety of plot types, including scatter plots, line plots, bar plots, histograms, box plots, violin plots, pair plots, and more. Let's explore some common Seaborn plots:\n",
        "\n",
        "**Scatter Plot:**\n",
        "\n",
        "A scatter plot represents individual data points as dots on a 2-dimensional plane. It is useful for visualizing the relationship between two continuous variables."
      ],
      "metadata": {
        "id": "G4TEVliIOoDY"
      }
    },
    {
      "cell_type": "code",
      "source": [
        "import seaborn as sns\n",
        "import matplotlib.pyplot as plt\n",
        "\n",
        "# Sample data\n",
        "x = [1, 2, 3, 4, 5]\n",
        "y = [3, 4, 2, 6, 5]\n",
        "\n",
        "# Creating a scatter plot\n",
        "sns.scatterplot(x=x, y=y)\n",
        "plt.show()\n"
      ],
      "metadata": {
        "id": "4mX8KxoBOufY",
        "outputId": "2015aae7-3fb4-4f3b-cb7d-ca96392bc5fb",
        "colab": {
          "base_uri": "https://localhost:8080/",
          "height": 430
        }
      },
      "execution_count": null,
      "outputs": [
        {
          "output_type": "display_data",
          "data": {
            "text/plain": [
              "<Figure size 640x480 with 1 Axes>"
            ],
            "image/png": "[encoded data removed]"
          },
          "metadata": {}
        }
      ]
    },
    {
      "cell_type": "markdown",
      "source": [
        "**Bar Plot:**\n",
        "\n",
        "A bar plot is used to show the distribution of a categorical variable or to compare multiple categorical variables."
      ],
      "metadata": {
        "id": "eEovcVwIO1P5"
      }
    },
    {
      "cell_type": "code",
      "source": [
        "import seaborn as sns\n",
        "import matplotlib.pyplot as plt\n",
        "\n",
        "# Sample data\n",
        "categories = [\"A\", \"B\", \"C\", \"D\"]\n",
        "values = [10, 20, 5, 15]\n",
        "\n",
        "# Creating a bar plot\n",
        "sns.barplot(x=categories, y=values)\n",
        "plt.show()\n"
      ],
      "metadata": {
        "id": "Lrh4Aq5gO946",
        "outputId": "36f2626d-173f-4256-ddf9-619eb9feba57",
        "colab": {
          "base_uri": "https://localhost:8080/",
          "height": 430
        }
      },
      "execution_count": null,
      "outputs": [
        {
          "output_type": "display_data",
          "data": {
            "text/plain": [
              "<Figure size 640x480 with 1 Axes>"
            ],
            "image/png": "[encoded data removed]"
          },
          "metadata": {}
        }
      ]
    },
    {
      "cell_type": "markdown",
      "source": [
        "**Histogram:**\n",
        "A histogram is used to visualize the distribution of a single numerical variable."
      ],
      "metadata": {
        "id": "IKaDf8-fPB3e"
      }
    },
    {
      "cell_type": "code",
      "source": [
        "import seaborn as sns\n",
        "import matplotlib.pyplot as plt\n",
        "\n",
        "# Sample data\n",
        "data = [10, 20, 30, 20, 25, 15, 35, 40, 45]\n",
        "\n",
        "# Creating a histogram\n",
        "sns.histplot(data)\n",
        "plt.show()\n"
      ],
      "metadata": {
        "id": "6BmA2fvhPExF",
        "outputId": "06eaf73c-7682-40ea-8686-4171298feaeb",
        "colab": {
          "base_uri": "https://localhost:8080/",
          "height": 430
        }
      },
      "execution_count": null,
      "outputs": [
        {
          "output_type": "display_data",
          "data": {
            "text/plain": [
              "<Figure size 640x480 with 1 Axes>"
            ],
            "image/png": "[encoded data removed]"
          },
          "metadata": {}
        }
      ]
    },
    {
      "cell_type": "markdown",
      "source": [
        "**Box Plot:**\n",
        "\n",
        "A box plot is used to visualize the distribution of a numerical variable and to identify outliers and quartiles."
      ],
      "metadata": {
        "id": "DjOMYOi_PMSX"
      }
    },
    {
      "cell_type": "code",
      "source": [
        "import seaborn as sns\n",
        "import matplotlib.pyplot as plt\n",
        "\n",
        "# Sample data\n",
        "data = [10, 20, 30, 40, 50, 60, 70]\n",
        "\n",
        "# Creating a box plot\n",
        "sns.boxplot(data)\n",
        "plt.show()\n"
      ],
      "metadata": {
        "id": "1iNsoYhyPPUz",
        "outputId": "19ef0c8c-3fd6-4d73-a6e3-c4edb01de28d",
        "colab": {
          "base_uri": "https://localhost:8080/",
          "height": 430
        }
      },
      "execution_count": null,
      "outputs": [
        {
          "output_type": "display_data",
          "data": {
            "text/plain": [
              "<Figure size 640x480 with 1 Axes>"
            ],
            "image/png": "[encoded data removed]"
          },
          "metadata": {}
        }
      ]
    },
    {
      "cell_type": "code",
      "source": [
        "# Example:\n",
        "# Let's create a more complex example using Seaborn to visualize the distribution of a dataset\n",
        "# and explore the relationship between two variables using a scatter plot:\n",
        "\n",
        "\n",
        "\n",
        "import seaborn as sns\n",
        "import matplotlib.pyplot as plt\n",
        "\n",
        "# Sample data\n",
        "x = [1, 2, 3, 4, 5]\n",
        "y = [3, 4, 2, 6, 5]\n",
        "\n",
        "# Creating a scatter plot\n",
        "sns.scatterplot(x=x, y=y)\n",
        "plt.title(\"Scatter Plot\")\n",
        "plt.xlabel(\"X-axis\")\n",
        "plt.ylabel(\"Y-axis\")\n",
        "plt.show()\n",
        "\n",
        "# Creating a histogram\n",
        "sns.histplot(y)\n",
        "plt.title(\"Histogram\")\n",
        "plt.xlabel(\"Values\")\n",
        "plt.ylabel(\"Frequency\")\n",
        "plt.show()"
      ],
      "metadata": {
        "id": "dWm_P9CxPZoR",
        "outputId": "53f5e398-524f-4816-b7b8-dcf846bc3812",
        "colab": {
          "base_uri": "https://localhost:8080/",
          "height": 927
        }
      },
      "execution_count": null,
      "outputs": [
        {
          "output_type": "display_data",
          "data": {
            "text/plain": [
              "<Figure size 640x480 with 1 Axes>"
            ],
            "image/png": "[encoded data removed]"
          },
          "metadata": {}
        },
        {
          "output_type": "display_data",
          "data": {
            "text/plain": [
              "<Figure size 640x480 with 1 Axes>"
            ],
            "image/png": "[encoded data removed]"
          },
          "metadata": {}
        }
      ]
    }
  ]
}