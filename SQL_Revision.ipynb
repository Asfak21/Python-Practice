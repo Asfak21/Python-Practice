{
  "nbformat": 4,
  "nbformat_minor": 0,
  "metadata": {
    "colab": {
      "provenance": [],
      "authorship_tag": "ABX9TyPCShWa/tLpDRay7l1TKYNh",
      "include_colab_link": true
    },
    "kernelspec": {
      "name": "python3",
      "display_name": "Python 3"
    },
    "language_info": {
      "name": "python"
    }
  },
  "cells": [
    {
      "cell_type": "markdown",
      "metadata": {
        "id": "view-in-github",
        "colab_type": "text"
      },
      "source": [
        "<a href=\"https://colab.research.google.com/github/Asfak21/Python-Practice/blob/main/SQL_Revision.ipynb\" target=\"_parent\"><img src=\"https://colab.research.google.com/assets/colab-badge.svg\" alt=\"Open In Colab\"/></a>"
      ]
    },
    {
      "cell_type": "markdown",
      "source": [
        "## Some of The Most Important SQL Commands\n",
        "SELECT - extracts data from a database  \n",
        "UPDATE - updates data in a database  \n",
        "DELETE - deletes data from a database  \n",
        "INSERT INTO - inserts new data into a database  \n",
        "CREATE DATABASE - creates a new database  \n",
        "ALTER DATABASE - modifies a database  \n",
        "CREATE TABLE - creates a new table  \n",
        "ALTER TABLE - modifies a table  \n",
        "DROP TABLE - deletes a table  \n",
        "CREATE INDEX - creates an index (search key)  \n",
        "DROP INDEX - deletes an index  \n",
        "\n",
        "\n",
        "\n"
      ],
      "metadata": {
        "id": "4k0BT8wBpEvw"
      }
    },
    {
      "cell_type": "markdown",
      "source": [
        "**SELECT query:**\n",
        "\n",
        "SELECT column1, column2, ...\n",
        "FROM table_name;\n",
        "\n",
        "example:\n",
        "SELECT columname1, columnname2 FROM tablename"
      ],
      "metadata": {
        "id": "JrmhsXaAa_Dn"
      }
    },
    {
      "cell_type": "markdown",
      "source": [
        "**WHERE query**\n",
        "\n",
        "SELECT column1, column2, ...\n",
        "FROM table_name\n",
        "WHERE condition1 AND condition2 AND condition3 ..."
      ],
      "metadata": {
        "id": "OuclqQfcbMdd"
      }
    },
    {
      "cell_type": "markdown",
      "source": [
        "**DISTINCT query**\n",
        "\n",
        "SELECT DISTINCT  column FROM table"
      ],
      "metadata": {
        "id": "h2FZOfo4bo0O"
      }
    },
    {
      "cell_type": "markdown",
      "source": [
        "**Order By Query**\n",
        "\n",
        "SELECT * FROM Customers\n",
        "ORDER BY Country DESC\n",
        "\n",
        "SELECT * FROM Customers\n",
        "ORDER BY Country ASC"
      ],
      "metadata": {
        "id": "HLOb86VtcWrg"
      }
    },
    {
      "cell_type": "markdown",
      "source": [
        "**SELECT and WHERE for filtering and selection:**\n",
        "\n",
        "SELECT *\n",
        "\n",
        "FROM employees\n",
        "\n",
        "\n",
        "WHERE department = 'Sales';\n",
        "\n",
        "\n",
        "\n",
        "**COUNT, SUM, MAX, GROUP BY, HAVING for aggregating data:**\n",
        "\n",
        "SELECT department, COUNT(*) as employee_count, AVG(salary) as average_salary\n",
        "\n",
        "\n",
        "FROM employees\n",
        "\n",
        "GROUP BY department\n",
        "\n",
        "HAVING average_salary > 50000;\n",
        "\n",
        "\n",
        "\n",
        "\n",
        "**DISTINCT, COUNT DISTINCT for producing useful distinct lists and distinct aggregates:**\n",
        "\n",
        "\n",
        "SELECT DISTINCT department\n",
        "\n",
        " FROM employees;\n",
        "\n",
        "\n",
        "**OUTER (e.g. LEFT) and INNER JOIN when/where to use them:**\n",
        "\n",
        "SELECT customers.name, orders.order_number\n",
        "\n",
        "FROM customers\n",
        "\n",
        "LEFT JOIN orders ON customers.id = orders.customer_id;\n",
        "\n",
        "\n",
        "**Strings and time conversions:**\n",
        "\n",
        "SELECT CONCAT(first_name, ' ', last_name) AS full_name,\n",
        "       DATE_FORMAT(birth_date, '%Y-%m-%d') AS formatted_birth_date\n",
        "\n",
        "FROM employees;\n",
        "\n",
        "**UNION and UNION ALL:**\n",
        "\n",
        "SELECT column1\n",
        "\n",
        "FROM table1\n",
        "\n",
        "UNION\n",
        "\n",
        "SELECT column1 FROM table2;\n",
        "\n",
        "**GROUP BY Statement**\n",
        "\n",
        "SELECT column_name(s)\n",
        "FROM table_name\n",
        "WHERE condition\n",
        "GROUP BY column_name(s)\n",
        "ORDER BY column_name(s);\n",
        "\n",
        "\n",
        "The GROUP BY statement is often used with aggregate functions (COUNT(), MAX(), MIN(), SUM(), AVG()) to group the result-set by one or more columns.\n",
        "\n",
        "**CASE Syntax**\n",
        "\n",
        "CASE\n",
        "\n",
        "    WHEN condition1 THEN result1\n",
        "    WHEN condition2 THEN result2\n",
        "    WHEN conditionN THEN resultN\n",
        "    ELSE result\n",
        "    \n",
        "END;\n",
        "\n",
        "Intermediate:\n",
        "\n",
        "**DML/DDL/DCL concepts:**\n",
        "\n",
        "\n",
        "DML - INSERT INTO employees VALUES ('John', 'Doe', 'Sales');\n",
        "\n",
        "DDL - CREATE TABLE employees (first_name VARCHAR(50), last_name VARCHAR(50), department VARCHAR(50));\n",
        "\n",
        "DCL - GRANT SELECT, INSERT ON employees TO 'user1';\n",
        "\n",
        "\n",
        "**Handling NULLS creatively (e.g. with COALESCE):**\n",
        "\n",
        "\n",
        "SELECT first_name, COALESCE(middle_name, 'N/A') AS middle_name, last_name\n",
        "\n",
        "FROM employees;\n",
        "\n",
        "**Subqueries and the impact of subqueries on efficiency of the query:**\n",
        "\n",
        "SELECT first_name, last_name\n",
        "\n",
        "FROM employees\n",
        "\n",
        "WHERE department IN (SELECT department FROM managers WHERE manager_name = 'John');\n",
        "\n",
        "**Temporary tables:**\n",
        "\n",
        "\n",
        "CREATE TEMPORARY TABLE temp_table AS\n",
        "SELECT *\n",
        "\n",
        "FROM employees\n",
        "\n",
        "WHERE department = 'Sales';\n",
        "\n",
        "SELECT *\n",
        "\n",
        "FROM temp_table;\n",
        "\n",
        "**Self joins:**\n",
        "\n",
        "SELECT e1.name AS employee_name, e2.name AS manager_name\n",
        "\n",
        "FROM employees e1\n",
        "\n",
        "INNER JOIN employees e2 ON e1.manager_id = e2.id;\n",
        "\n",
        "**Window functions like PARTITION, LEAD, LAG, NTILE:**\n",
        "\n",
        "SELECT department, salary,\n",
        "       ROW_NUMBER() OVER (PARTITION BY department ORDER BY salary DESC) AS rank\n",
        "\n",
        "FROM employees;\n",
        "\n",
        "**UDFs (user-defined functions):**\n",
        "\n",
        "CREATE FUNCTION calculate_age(birth_date DATE) RETURNS INT\n",
        "BEGIN\n",
        "    RETURN YEAR(CURRENT_DATE()) - YEAR(birth_date);\n",
        "END;\n",
        "\n",
        "SELECT first_name, last_name, calculate_age(birth_date) AS age\n",
        "\n",
        "FROM employees;\n",
        "\n",
        "**Use of indexes in querying to make operations faster:**\n",
        "\n",
        "CREATE INDEX idx_department ON employees (department);\n",
        "\n",
        "SELECT *\n",
        "FROM employees WHERE department = 'Sales';\n",
        "\n",
        "**CTE (Common Table Expressions):**\n",
        "\n",
        "WITH sales_employees AS (\n",
        "    SELECT * FROM employees WHERE department = 'Sales'\n",
        ")\n",
        "SELECT *\n",
        "FROM sales_employees;"
      ],
      "metadata": {
        "id": "-pp71ZYjhZi9"
      }
    }
  ]
}